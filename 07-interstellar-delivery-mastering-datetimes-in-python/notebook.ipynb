{
 "cells": [
  {
   "cell_type": "markdown",
   "id": "c0672a78-54fb-4e9b-b617-bf43e781f0ba",
   "metadata": {},
   "source": [
    "![rocket_img](rocket_img.jpg)\n",
    "\n",
    "\n"
   ]
  },
  {
   "cell_type": "markdown",
   "id": "d23e9759-c345-4665-9b02-eaf3932cfa51",
   "metadata": {},
   "source": [
    "You recently quit your job to start a space logistics company that uses rockets to deliver critical cargo to colonies on demand. Since you're still in the startup phase, you're handling everything yourself, including writing the software to manage complex scheduling and timing across different space colonies.\n",
    "\n",
    "Before developing a full rocket flight planning and logistics system, you want to create core functions using Python's datetime module to handle dates, times, and durations. These basic functions are essential for your rocket delivery service. In this project, you will make simple reusable functions for working with timestamps, calculating rocket landing times based on launch and travel duration, and figuring out days until a delivery deadline to keep those customers updated!\n",
    "\n",
    "This project is data-less, but you can test your functions by calling them in the workspace and passing them the required variables."
   ]
  },
  {
   "cell_type": "code",
   "execution_count": 1,
   "id": "b73875a4-ec41-4739-8670-764f75f2804f",
   "metadata": {
    "executionCancelledAt": null,
    "executionTime": 159,
    "lastExecutedAt": 1708447480977,
    "lastScheduledRunId": null,
    "lastSuccessfullyExecutedCode": "# Re-run this cell\nfrom datetime import datetime, timedelta"
   },
   "outputs": [],
   "source": [
    "# Re-run this cell\n",
    "from datetime import datetime, timedelta"
   ]
  },
  {
   "cell_type": "code",
   "execution_count": null,
   "id": "b79a3cde-42f2-48da-879c-af8bbafa6a2e",
   "metadata": {
    "executionCancelledAt": null,
    "executionTime": 52,
    "lastExecutedAt": 1706622287059,
    "lastScheduledRunId": null,
    "lastSuccessfullyExecutedCode": "# Start coding here. Use as many cells as you need."
   },
   "outputs": [],
   "source": [
    "# Start coding here. Use as many cells as you need.\n",
    "\n",
    "# Define format_date function accepting timestamp and datetime format args\n",
    "def format_date(timestamp, datetime_format):\n",
    "    # Convert timestamp arg to datetime object and save result in new variable\n",
    "    datetime_obj = datetime.fromtimestamp(timestamp)  \n",
    "    # Format datetime_obj to string using the datetime_format arg\n",
    "    datetime_str = datetime_obj.strftime(datetime_format)\n",
    "    # Return formatted datetime string\n",
    "    return datetime_str\n",
    "\n",
    "# Define calculate_landing_time function accepting launch datetime and duration\n",
    "def calculate_landing_time(rocket_launch_dt, travel_duration):\n",
    "    # Calculate landing by adding travel_duration to rocket_launch_dt arg and save result in new variable\n",
    "    landing_date = rocket_launch_dt + timedelta(days=travel_duration)\n",
    "    # Format landing datetime to string in specified format\n",
    "    landing_date_string = landing_date.strftime(\"%d-%m-%Y\") \n",
    "    # Return landing date time string \n",
    "    return landing_date_string\n",
    "\n",
    "# Define days_until_delivery function accepting expected and current datetimes \n",
    "def days_until_delivery(expected_delivery_dt, current_dt):\n",
    "    # Calculate the time until delivery by subtracting current_dt arg from the expected_delivery_dt arg \n",
    "    time_until_delivery = expected_delivery_dt - current_dt\n",
    "    # Access the date component of the datetime object\n",
    "    days_until = time_until_delivery.days\n",
    "    # Return number of days until delivery\n",
    "    return days_until"
   ]
  }
 ],
 "metadata": {
  "editor": "DataCamp Workspace",
  "kernelspec": {
   "display_name": "associate-python-developer",
   "language": "python",
   "name": "python3"
  },
  "language_info": {
   "codemirror_mode": {
    "name": "ipython",
    "version": 3
   },
   "file_extension": ".py",
   "mimetype": "text/x-python",
   "name": "python",
   "nbconvert_exporter": "python",
   "pygments_lexer": "ipython3",
   "version": "3.9.20"
  }
 },
 "nbformat": 4,
 "nbformat_minor": 5
}
